{
  "nbformat": 4,
  "nbformat_minor": 0,
  "metadata": {
    "colab": {
      "provenance": [],
      "collapsed_sections": []
    },
    "kernelspec": {
      "name": "python3",
      "display_name": "Python 3"
    },
    "language_info": {
      "name": "python"
    }
  },
  "cells": [
    {
      "cell_type": "markdown",
      "source": [
        "# Nombre de Proyecto\n",
        "---\n",
        "\n",
        "Autores:\n",
        "* Integrante 1.\n",
        "* Integrante 2.\n",
        "* Integrante 3."
      ],
      "metadata": {
        "id": "1RuvD7J1syl5"
      }
    },
    {
      "cell_type": "code",
      "source": [
        "# Agruegue aquí las librerías que necesite\n",
        "import tensorflow as tf"
      ],
      "metadata": {
        "id": "KCamVvZ5wRW_"
      },
      "execution_count": null,
      "outputs": []
    },
    {
      "cell_type": "markdown",
      "source": [
        "## 1. Entendimiento del problema\n",
        "---\n",
        "Agruegue una explicación de el problema que trata a solucionar. Intente dar respuesta a las siguientes preguntas:\n",
        "\n",
        "* De dónde vienen los datos?\n",
        "* Qué tipo de datos tenemos?\n",
        "* En qué formato están los datos?\n",
        "* Cuál es el objetivo de este proyecto?\n",
        "* Quienes se beneficiarían del producto?"
      ],
      "metadata": {
        "id": "A51lM-KVt3Z1"
      }
    },
    {
      "cell_type": "markdown",
      "source": [
        "## 2. Carga de datos\n",
        "---\n",
        "\n",
        "Implemente las funciones necesarias para cargar la información en dependencia de su procedencia (web, archivos planos, csv, bases de datos, entre otros)."
      ],
      "metadata": {
        "id": "7MkAcFEXuK83"
      }
    },
    {
      "cell_type": "code",
      "execution_count": null,
      "metadata": {
        "id": "GB0w96wqss4F"
      },
      "outputs": [],
      "source": [
        "# Ingrese su código aquí\n",
        "corpus = \"\""
      ]
    },
    {
      "cell_type": "markdown",
      "source": [
        "## 3. Preprocesamiento\n",
        "---\n",
        "\n",
        "Escriba una función que permita preprocesar los datos en dependencia del dominio de la aplicación:\n",
        "\n",
        "* Información estructurada: outliers, z-scaling, min-max normalization, entre otros.\n",
        "* Texto: tokenization, stopwords, expresiones regulares, stemming, unidecode, entre otros.\n",
        "* Imágenes: data augmentation, resizing, ajuste de color, entre otros.\n",
        "* Series de tiempo: outliers, suavizado, interpolación, entre otros."
      ],
      "metadata": {
        "id": "nOLPbaJAuwru"
      }
    },
    {
      "cell_type": "code",
      "source": [
        "# Ingrese su código aquí\n",
        "def preprocess(data):\n",
        "    ..."
      ],
      "metadata": {
        "id": "3hUnJBC4uVve"
      },
      "execution_count": null,
      "outputs": []
    },
    {
      "cell_type": "markdown",
      "source": [
        "## 4. Modelamiento\n",
        "---\n",
        "\n",
        "Seleccione un modelo apropiado para el problema que desea solucionar (clasificación, regresión, agrupamiento, tópicos, entre otros) y entrenelo con las representaciones obtenidas en el paso anterior.\n"
      ],
      "metadata": {
        "id": "78-t5pRavT8g"
      }
    },
    {
      "cell_type": "code",
      "source": [
        "def training(data):\n",
        "    ..."
      ],
      "metadata": {
        "id": "2f3bGfGivS8n"
      },
      "execution_count": null,
      "outputs": []
    },
    {
      "cell_type": "markdown",
      "source": [
        "## 6. Evaluacion\n",
        "---\n",
        "\n",
        "Evalúe el desempeño de su modelo con una métrica de desempeño apropiada al problema.\n"
      ],
      "metadata": {
        "id": "KLWpwfmuv3a1"
      }
    },
    {
      "cell_type": "code",
      "source": [
        "def evaluate(model, data):\n",
        "    ..."
      ],
      "metadata": {
        "id": "CBNen6MpvtnL"
      },
      "execution_count": null,
      "outputs": []
    },
    {
      "cell_type": "markdown",
      "source": [
        "## 7. Discusión y Conclusiones\n",
        "---\n",
        "\n",
        "Interprete los resultados obtenidos y escriba una discusión de los resultados.\n"
      ],
      "metadata": {
        "id": "kYv_hAkDv7_e"
      }
    }
  ]
}